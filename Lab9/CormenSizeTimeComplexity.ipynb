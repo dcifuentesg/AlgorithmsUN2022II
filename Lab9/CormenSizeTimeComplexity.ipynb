{
  "nbformat": 4,
  "nbformat_minor": 0,
  "metadata": {
    "colab": {
      "provenance": [],
      "include_colab_link": true
    },
    "kernelspec": {
      "name": "python3",
      "display_name": "Python 3"
    },
    "language_info": {
      "name": "python"
    }
  },
  "cells": [
    {
      "cell_type": "markdown",
      "metadata": {
        "id": "view-in-github",
        "colab_type": "text"
      },
      "source": [
        "<a href=\"https://colab.research.google.com/github/ccuaspa/AlgorithmsUN2022II/blob/main/Lab9/CormenSizeTimeComplexity.ipynb\" target=\"_parent\"><img src=\"https://colab.research.google.com/assets/colab-badge.svg\" alt=\"Open In Colab\"/></a>"
      ]
    },
    {
      "cell_type": "markdown",
      "metadata": {
        "id": "nq_nKn3ESWLj"
      },
      "source": [
        "# 0.(1 microsecond by instruction)\n",
        "Asuuming that you can execute a million instructions $10^6$ every second, i.e. each instruction takes one microsecond $1\\mu s=10^{-6}$ seconds. If you have algorithms take $\\bf{ Time\\ Complexity}$ steps to solve a problem of size $n$ as specified in column one. What is the size of the largest problem that you can solve in the time specified in row one?\n",
        "\n",
        "$$\n",
        "\\begin{array}{|c|c|c|c|c|c|c|c|} \n",
        " \\hline\n",
        " \\bf{ Time\\ Complexity} & Second  & Minute  & Hour & Day & Year & Century & Mileniun  \\\\ \n",
        "  \\hline\\\\ \n",
        "\\lg(n) & 2^{10^{6} }    & 2^{60 \\times 10^{7}} & 2^{3.6 \\times 10^{9}} &  2^{8.64 \\times 10^{10}}& 2^{3.1536 \\times 10^{13}} & 2^{3.1536 \\times 10^{15}} & 2^{3.1536 \\times 10^{18}} \\\\ \n",
        "   \\hline\\\\ \n",
        "\\lg^2(n) &   2^{1000}  & 2^{7746}  & 2^{6\\times 10^{4}} & 2^{293938} & 2^{5615692} & 2^{56156922} &  2^{1775837830} \\\\ \n",
        "   \\hline\\\\ \n",
        "\\sqrt{n} &  10^{12}  & 3.6 \\times 10^{15}  & 1.296 \\times 10^{19} & 7.46496 \\times 10^{21}& 9.94519296 \\times 10^{26} & 9.94519296  \\times 10^{30} & 9.94519296 \\times 10^{36}\\\\ \n",
        " \\hline\n",
        " n & 10^{6}    & 6 \\times 10^{7}   & 3.6 \\times 10^{9} & 8.64 \\times 10^{10} & 3.1536 \\times 10^{13} & 3.1536 \\times 10^{15} &  3.1536 \\times 10^{18}\\\\ \n",
        " \\hline\n",
        " n\\lg(n) &  62746  & 2801417  &  133378058  & 2.75514751\\times 10^{9}  &  7.97633893 \\times 10^{11} & 6.86109568 \\times 10^{13} &  5.66650934\\times 10^{16} \\\\ \n",
        " \\hline\n",
        " n^2 &  1000  & 7746  & 60000 & 293939 & 5615692 & 56156923 &  1775837830 \\\\ \n",
        " \\hline\n",
        "  n^3 &  100 &  391 & 1533 &  4421  &  31594 & 146646 & 1466455 \\\\ \n",
        " \\hline\n",
        "  n^4 &  32  &  88  & 245 & 542 & 2370 & 7494  & 42141 \\\\ \n",
        " \\hline\n",
        "  2^n &  19  &  25 & 31 & 36 & 44 & 51 & 61 \\\\ \n",
        " \\hline\n",
        " n! &  9  & 11 &  12 & 13 & 16 & 17  &  20\\\\ \n",
        " \\hline\n",
        " n^n &  7  &  8 & 9 & 10 & 12 & 13 & 15 \\\\ \n",
        " \\hline\n",
        "\\end{array}\n",
        "$$"
      ]
    },
    {
      "cell_type": "markdown",
      "metadata": {
        "id": "yCCsCOW2OQbQ"
      },
      "source": [
        "# 1.(10  nanoseconds by instruction)\n",
        "\n",
        "Asuuming that you can execute a 100 million instructions $100 \\times 10^6$ every second, i.e. each instrcution takes 10 nanoseconds, 10 $\\eta s  = 10^{-8} s $. If you have algorithms take $\\bf{ Time\\ Complexity}$ steps to solve a poblem of size $n$ as specified in column one. What is the size of the largest porblem that you can solve in the time specified in row one?\n",
        "$$\n",
        "\\begin{array}{|c|c|c|c|c|c|c|c|} \n",
        " \\hline\n",
        " \\bf{ Time\\ Complexity} & Second  & Minute  & Hour & Day & Year & Century & Mileniun  \\\\ \n",
        "  \\hline\\\\ \n",
        "\\lg(n) &    &   &  &  &  &  &  \\\\ \n",
        "   \\hline\\\\ \n",
        "\\lg^2(n) &    &   &  &  &  &  &  \\\\ \n",
        "   \\hline\\\\ \n",
        "\\sqrt{n} &    &   &  &  &  &  &  \\\\ \n",
        " \\hline\n",
        " n &    &   &  &  &  &  &  \\\\ \n",
        " \\hline\n",
        " n\\lg(n) &    &   &  &  &  &  &  \\\\ \n",
        " \\hline\n",
        " n^2 &    &   &  &  &  &  &  \\\\ \n",
        " \\hline\n",
        "  n^3 &    &   &  &  &  &  &  \\\\ \n",
        " \\hline\n",
        "  n^4 &    &   &  &  &  &  &  \\\\ \n",
        " \\hline\n",
        "  2^n &    &   &  &  &  &  &  \\\\ \n",
        " \\hline\n",
        " n! &    &   &  &  &  &  &  \\\\ \n",
        " \\hline\n",
        " n^n &    &   &  &  &  &  &  \\\\ \n",
        " \\hline\n",
        "\\end{array}\n",
        "$$"
      ]
    },
    {
      "cell_type": "markdown",
      "metadata": {
        "id": "9fIs_70_DJWM"
      },
      "source": [
        "# 2.(2.5  nanoseconds by instruction)\n",
        "\n",
        "Asuuming that you can execute a 400 million instructions $400 \\times 10^6$ every second, i.e. each instrcution takes 2.5  nanoseconds, 2.5 $\\eta s  = 2.5 \\times 10^{-9} s$. If you have algorithms take $\\bf{ Time\\ Complexity}$ steps to solve a problem of size $n$ as specified in column one. What is the size of the largest problem that you can solve in the time specified in row one?\n",
        "$$\n",
        "\\begin{array}{|c|c|c|c|c|c|c|c|} \n",
        " \\hline\n",
        " \\bf{ Time\\ Complexity} & Second  & Minute  & Hour & Day & Year & Century & Mileniun  \\\\ \n",
        "  \\hline\\\\ \n",
        "\\lg(n) &    &   &  &  &  &  &  \\\\ \n",
        "   \\hline\\\\ \n",
        "\\lg^2(n) &    &   &  &  &  &  &  \\\\ \n",
        "   \\hline\\\\ \n",
        "\\sqrt{n} &    &   &  &  &  &  &  \\\\ \n",
        " \\hline\n",
        " n &    &   &  &  &  &  &  \\\\ \n",
        " \\hline\n",
        " n\\lg(n) &    &   &  &  &  &  &  \\\\ \n",
        " \\hline\n",
        " n^2 &    &   &  &  &  &  &  \\\\ \n",
        " \\hline\n",
        "  n^3 &    &   &  &  &  &  &  \\\\ \n",
        " \\hline\n",
        "  n^4 &    &   &  &  &  &  &  \\\\ \n",
        " \\hline\n",
        "  2^n &    &   &  &  &  &  &  \\\\ \n",
        " \\hline\n",
        " n! &    &   &  &  &  &  &  \\\\ \n",
        " \\hline\n",
        " n^n &    &   &  &  &  &  &  \\\\ \n",
        " \\hline\n",
        "\\end{array}\n",
        "$$"
      ]
    },
    {
      "cell_type": "markdown",
      "metadata": {
        "id": "kwpTH36ZIyQJ"
      },
      "source": [
        "# 3. (1 noneosecond by instruction)\n",
        "\n",
        "Asuuming that you can execute a 1000 million instructions $10^9$ every second, i.e. each instrcution takes 1  nanosecond, 1 $\\eta s  = 10^{-9} s$. If you have algorithms take $\\bf{ Time\\ Complexity}$ steps to solve a problem of size $n$ as specified in column one. What is the size of the largest problem that you can solve in the time specified in row one?\n",
        "$$\n",
        "\\begin{array}{|c|c|c|c|c|c|c|c|} \n",
        " \\hline\n",
        " \\bf{ Time\\ Complexity} & Second  & Minute  & Hour & Day & Year & Century & Mileniun  \\\\ \n",
        "  \\hline\\\\ \n",
        "\\lg(n) &    &   &  &  &  &  &  \\\\ \n",
        "   \\hline\\\\ \n",
        "\\lg^2(n) &    &   &  &  &  &  &  \\\\ \n",
        "   \\hline\\\\ \n",
        "\\sqrt{n} &    &   &  &  &  &  &  \\\\ \n",
        " \\hline\n",
        " n &    &   &  &  &  &  &  \\\\ \n",
        " \\hline\n",
        " n\\lg(n) &    &   &  &  &  &  &  \\\\ \n",
        " \\hline\n",
        " n^2 &    &   &  &  &  &  &  \\\\ \n",
        " \\hline\n",
        "  n^3 &    &   &  &  &  &  &  \\\\ \n",
        " \\hline\n",
        "  n^4 &    &   &  &  &  &  &  \\\\ \n",
        " \\hline\n",
        "  2^n &    &   &  &  &  &  &  \\\\ \n",
        " \\hline\n",
        " n! &    &   &  &  &  &  &  \\\\ \n",
        " \\hline\n",
        " n^n &    &   &  &  &  &  &  \\\\ \n",
        " \\hline\n",
        "\\end{array}\n",
        "$$"
      ]
    }
  ]
}