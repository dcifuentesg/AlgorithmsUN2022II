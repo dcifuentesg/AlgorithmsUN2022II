{
  "cells": [
    {
      "cell_type": "markdown",
      "metadata": {
        "id": "view-in-github",
        "colab_type": "text"
      },
      "source": [
        "<a href=\"https://colab.research.google.com/github/ccuaspa/AlgorithmsUN2022II/blob/main/Group4_200_20_2Y.ipynb\" target=\"_parent\"><img src=\"https://colab.research.google.com/assets/colab-badge.svg\" alt=\"Open In Colab\"/></a>"
      ]
    },
    {
      "cell_type": "markdown",
      "metadata": {
        "pycharm": {
          "name": "#%% md\n"
        },
        "id": "p9XXgZQl1vM5"
      },
      "source": [
        "# Group4_200_20_2Y"
      ]
    },
    {
      "cell_type": "code",
      "execution_count": null,
      "metadata": {
        "pycharm": {
          "is_executing": true,
          "name": "#%%\n"
        },
        "colab": {
          "base_uri": "https://localhost:8080/",
          "height": 373
        },
        "id": "ed-V_gKN1vM9",
        "outputId": "9f6a9d4c-847f-4d79-f538-00dcaf0dd392"
      },
      "outputs": [
        {
          "output_type": "error",
          "ename": "ModuleNotFoundError",
          "evalue": "ignored",
          "traceback": [
            "\u001b[0;31m---------------------------------------------------------------------------\u001b[0m",
            "\u001b[0;31mModuleNotFoundError\u001b[0m                       Traceback (most recent call last)",
            "\u001b[0;32m<ipython-input-1-f2496da84b64>\u001b[0m in \u001b[0;36m<module>\u001b[0;34m\u001b[0m\n\u001b[1;32m      1\u001b[0m \u001b[0;32mimport\u001b[0m \u001b[0mxarray\u001b[0m \u001b[0;32mas\u001b[0m \u001b[0mxr\u001b[0m\u001b[0;34m\u001b[0m\u001b[0;34m\u001b[0m\u001b[0m\n\u001b[1;32m      2\u001b[0m \u001b[0;34m\u001b[0m\u001b[0m\n\u001b[0;32m----> 3\u001b[0;31m \u001b[0;32mimport\u001b[0m \u001b[0mqnt\u001b[0m\u001b[0;34m.\u001b[0m\u001b[0mta\u001b[0m \u001b[0;32mas\u001b[0m \u001b[0mqnta\u001b[0m\u001b[0;34m\u001b[0m\u001b[0;34m\u001b[0m\u001b[0m\n\u001b[0m\u001b[1;32m      4\u001b[0m \u001b[0;32mimport\u001b[0m \u001b[0mqnt\u001b[0m\u001b[0;34m.\u001b[0m\u001b[0mbacktester\u001b[0m \u001b[0;32mas\u001b[0m \u001b[0mqnbt\u001b[0m\u001b[0;34m\u001b[0m\u001b[0;34m\u001b[0m\u001b[0m\n\u001b[1;32m      5\u001b[0m \u001b[0;32mimport\u001b[0m \u001b[0mqnt\u001b[0m\u001b[0;34m.\u001b[0m\u001b[0mdata\u001b[0m \u001b[0;32mas\u001b[0m \u001b[0mqndata\u001b[0m\u001b[0;34m\u001b[0m\u001b[0;34m\u001b[0m\u001b[0m\n",
            "\u001b[0;31mModuleNotFoundError\u001b[0m: No module named 'qnt'",
            "",
            "\u001b[0;31m---------------------------------------------------------------------------\u001b[0;32m\nNOTE: If your import is failing due to a missing package, you can\nmanually install dependencies using either !pip or !apt.\n\nTo view examples of installing some common dependencies, click the\n\"Open Examples\" button below.\n\u001b[0;31m---------------------------------------------------------------------------\u001b[0m\n"
          ],
          "errorDetails": {
            "actions": [
              {
                "action": "open_url",
                "actionText": "Open Examples",
                "url": "/notebooks/snippets/importing_libraries.ipynb"
              }
            ]
          }
        }
      ],
      "source": [
        "import xarray as xr\n",
        "\n",
        "import qnt.ta as qnta\n",
        "import qnt.backtester as qnbt\n",
        "import qnt.data as qndata\n",
        "\n",
        "def load_data(period):\n",
        "    return qndata.stocks.load_ndx_data(tail=period)\n",
        "\n",
        "\n",
        "\n",
        "def strategy(data):\n",
        "    close     = data.sel(field=\"close\")\n",
        "    is_liquid = data.sel(field=\"is_liquid\")\n",
        "    sma_slow  = qnta.sma(close, 200).isel(time=-1)\n",
        "    sma_fast  = qnta.sma(close, 20).isel(time=-1)\n",
        "    weights   = xr.where(sma_slow < sma_fast, 1, -1)\n",
        "    weights   = weights * is_liquid\n",
        "    return weights\n",
        "\n",
        "\n",
        "\n",
        "weights = qnbt.backtest(\n",
        "    competition_type = \"stocks_nasdaq100\",\n",
        "    load_data        = load_data,\n",
        "    lookback_period  = 365*4,\n",
        "    start_date       = \"2020-10-10\",\n",
        "    strategy         = strategy,\n",
        "    analyze          = True,\n",
        "    build_plots      = True\n",
        ")"
      ]
    }
  ],
  "metadata": {
    "kernelspec": {
      "display_name": "Python 3",
      "language": "python",
      "name": "python3"
    },
    "language_info": {
      "codemirror_mode": {
        "name": "ipython",
        "version": 3
      },
      "file_extension": ".py",
      "mimetype": "text/x-python",
      "name": "python",
      "nbconvert_exporter": "python",
      "pygments_lexer": "ipython3",
      "version": "3.7.6"
    },
    "colab": {
      "provenance": [],
      "collapsed_sections": [],
      "include_colab_link": true
    }
  },
  "nbformat": 4,
  "nbformat_minor": 0
}
